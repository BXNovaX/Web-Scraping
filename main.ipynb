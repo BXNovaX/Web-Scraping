{
 "cells": [
  {
   "cell_type": "markdown",
   "metadata": {},
   "source": [
    "Set Headers request"
   ]
  },
  {
   "cell_type": "code",
   "execution_count": null,
   "metadata": {},
   "outputs": [],
   "source": [
    "HEADERS = {\n",
    "    \"User-Agent\": \"Mozilla/5.0 (Windows NT 10.0; Win64; x64; rv:98.0) Gecko/20100101 Firefox/98.0\",\n",
    "    \"Accept\": \"text/html,application/xhtml+xml,application/xml;q=0.9,image/avif,image/webp,*/*;q=0.8\",\n",
    "    \"Accept-Language\": \"en-US,en;q=0.5\",\n",
    "    \"Accept-Encoding\": \"gzip, deflate\",\n",
    "    \"Connection\": \"keep-alive\",\n",
    "    \"Upgrade-Insecure-Requests\": \"1\",\n",
    "    \"Sec-Fetch-Dest\": \"document\",\n",
    "    \"Sec-Fetch-Mode\": \"navigate\",\n",
    "    \"Sec-Fetch-Site\": \"none\",\n",
    "    \"Sec-Fetch-User\": \"?1\",\n",
    "    \"Cache-Control\": \"max-age=0\",\n",
    "}"
   ]
  },
  {
   "cell_type": "markdown",
   "metadata": {},
   "source": [
    "Get html page from https://bama.ir"
   ]
  },
  {
   "cell_type": "code",
   "execution_count": null,
   "metadata": {},
   "outputs": [],
   "source": [
    "import httpx\n",
    "\n",
    "async with httpx.AsyncClient() as client:\n",
    "    response = await client.get(\n",
    "        url=\"https://bama.ir/car?brand=quick,atfullplus,manualrplus(at)&priced=1&sort=4\",\n",
    "        headers=HEADERS,\n",
    "        timeout=5.0,\n",
    "    )"
   ]
  },
  {
   "cell_type": "code",
   "execution_count": null,
   "metadata": {},
   "outputs": [],
   "source": [
    "from bs4 import BeautifulSoup\n",
    "import re\n",
    "\n",
    "if response.status_code == 200:\n",
    "    soup = BeautifulSoup(response, \"lxml\")\n",
    "    with open(\"index.html\", \"w\") as index:\n",
    "        index.write(soup.prettify())\n",
    "    boxes = soup.find(\n",
    "        \"div\",\n",
    "        class_=\"bama-adlist-container\",\n",
    "    )\n",
    "    with open(\"output.txt\", \"w\") as output:\n",
    "        for box in boxes.find_all(\"div\", class_=\"bama-ad-holder\"):\n",
    "            model = box.a.find(\"div\", class_=\"bama-ad__title-row\").p.text.strip()\n",
    "            year = box.a.find(\"div\", class_=\"bama-ad__detail-row\").span.text.strip()\n",
    "            distance = re.sub(\n",
    "                r\"\\D+\",\n",
    "                \"\",\n",
    "                box.a.find(\"div\", class_=\"bama-ad__detail-row\")\n",
    "                .find_all(\"span\")[1]\n",
    "                .text.strip()\n",
    "                .replace(\",\", \"_\"),\n",
    "            )\n",
    "            detail = (\n",
    "                box.a.find(\"div\", class_=\"bama-ad__detail-row\")\n",
    "                .find_all(\"span\")[2]\n",
    "                .text.strip()\n",
    "            )\n",
    "            price = (\n",
    "                box.a.find(\"div\", class_=\"bama-ad__price-row\")\n",
    "                .find(\"div\", \"bama-ad__price-holder\")\n",
    "                .span.text.strip()\n",
    "                .replace(\",\", \"\")\n",
    "            )\n",
    "            link = box.a[\"href\"]\n",
    "            output.write(\n",
    "                f\"\"\"\n",
    "Model: {model}\n",
    "Manufacture Year: {year}\n",
    "Distance Passed: {0 if distance == \"\" else distance}\n",
    "Detail: {detail}\n",
    "Price: {price}\n",
    "link: {f\"https://bama.ir{link}\"}\n",
    "\"\"\"\n",
    "            )\n",
    "else:\n",
    "    print(response)"
   ]
  },
  {
   "cell_type": "markdown",
   "metadata": {},
   "source": [
    "Set Environment For Sending Results using E-Mail"
   ]
  },
  {
   "cell_type": "code",
   "execution_count": null,
   "metadata": {},
   "outputs": [],
   "source": [
    "from dotenv import load_dotenv\n",
    "import os\n",
    "\n",
    "load_dotenv()\n",
    "\n",
    "PORT = 587\n",
    "SMTP_SERVER = \"smtp.gmail.com\"\n",
    "PASSWORD = os.getenv(\"PASSWORD\")\n",
    "SENDER_EMAIL = \"mhmk.nova@gmail.com\""
   ]
  },
  {
   "cell_type": "markdown",
   "metadata": {},
   "source": [
    "Send Results Using E-Mail"
   ]
  },
  {
   "cell_type": "code",
   "execution_count": null,
   "metadata": {},
   "outputs": [],
   "source": [
    "import ssl, smtplib\n",
    "\n",
    "with open(\"output.txt\", \"r\") as message:\n",
    "    message = message.readlines()\n",
    "\n",
    "CONTEXT = ssl.create_default_context()\n",
    "with smtplib.SMTP(SMTP_SERVER, PORT) as server:\n",
    "    server.starttls(context=CONTEXT)\n",
    "    server.login(SENDER_EMAIL, PASSWORD)\n",
    "    server.sendmail(SENDER_EMAIL, \"mhmk.nova@skiff.com\", message)"
   ]
  }
 ],
 "metadata": {
  "kernelspec": {
   "display_name": "venv",
   "language": "python",
   "name": "python3"
  },
  "language_info": {
   "codemirror_mode": {
    "name": "ipython",
    "version": 3
   },
   "file_extension": ".py",
   "mimetype": "text/x-python",
   "name": "python",
   "nbconvert_exporter": "python",
   "pygments_lexer": "ipython3",
   "version": "3.11.2"
  },
  "orig_nbformat": 4
 },
 "nbformat": 4,
 "nbformat_minor": 2
}
